{
 "cells": [
  {
   "cell_type": "markdown",
   "id": "39bd4f1d-ef01-41e0-87d7-b161d29cbf73",
   "metadata": {},
   "source": [
    "# Read Image in RGB format/Grey Format/Alpha or Transference Format using OpenCV Python"
   ]
  },
  {
   "cell_type": "markdown",
   "id": "109a05ab-0607-4a5a-b984-6f2673ff8345",
   "metadata": {},
   "source": [
    "Syntax: cv2.imread(path, flag)"
   ]
  },
  {
   "cell_type": "markdown",
   "id": "9e5d8020-1abb-4408-8331-d63c978a870d",
   "metadata": {},
   "source": [
    "flag: default value is cv2.IMREAD_COLOR\n",
    "Parameters:\n",
    "\n",
    "cv2.IMREAD_COLOR or 1: reads the image with RGB colors\n",
    "\n",
    "cv2.IMREAD_GRAYSCALE or 0: reads the image with gray colors\n",
    "\n",
    "cv2.IMREAD_UNCHANGED or -1: It reads the image as is from the source. If the source image is an RGB, it loads the image into an array with Red, Green, and Blue channels. If the source image is ARGB, it loads the image with three color components along with the alpha or transparency channel."
   ]
  },
  {
   "cell_type": "markdown",
   "id": "f9bb71b7-8788-41f8-aee9-19b476c3e36a",
   "metadata": {},
   "source": [
    "## Read Image in RGB format"
   ]
  },
  {
   "cell_type": "code",
   "execution_count": 1,
   "id": "7dfb32af-b9eb-4d28-9176-6729da017418",
   "metadata": {},
   "outputs": [
    {
     "name": "stdout",
     "output_type": "stream",
     "text": [
      "(2448, 3264, 3)\n",
      "[[[188 179 182]\n",
      "  [188 179 182]\n",
      "  [188 179 182]\n",
      "  ...\n",
      "  [195 188 191]\n",
      "  [195 188 191]\n",
      "  [194 187 190]]\n",
      "\n",
      " [[186 179 182]\n",
      "  [188 179 182]\n",
      "  [188 179 182]\n",
      "  ...\n",
      "  [193 186 189]\n",
      "  [193 186 189]\n",
      "  [194 187 190]]\n",
      "\n",
      " [[186 179 182]\n",
      "  [186 179 182]\n",
      "  [188 179 182]\n",
      "  ...\n",
      "  [197 190 193]\n",
      "  [194 187 190]\n",
      "  [195 188 191]]\n",
      "\n",
      " ...\n",
      "\n",
      " [[ 56  58  99]\n",
      "  [ 69  71 111]\n",
      "  [ 76  82 119]\n",
      "  ...\n",
      "  [ 40  40  54]\n",
      "  [ 32  32  46]\n",
      "  [ 34  34  48]]\n",
      "\n",
      " [[ 76  72 107]\n",
      "  [ 78  77 111]\n",
      "  [ 79  78 112]\n",
      "  ...\n",
      "  [ 46  47  57]\n",
      "  [ 44  44  56]\n",
      "  [ 47  49  60]]\n",
      "\n",
      " [[ 82  77 109]\n",
      "  [ 79  73 108]\n",
      "  [ 73  69 104]\n",
      "  ...\n",
      "  [ 43  45  55]\n",
      "  [ 41  43  53]\n",
      "  [ 42  46  57]]]\n"
     ]
    }
   ],
   "source": [
    "import cv2 #import opencv packages\n",
    " \n",
    "path = \"C:\\D-Drive\\Bhupi\\Project\\OpenCV\\images\\DSC01499.JPG\" \n",
    " \n",
    "img = cv2.imread(path, 1) #read image in RGB format\n",
    " \n",
    "print(img.shape)#print shape of image\n",
    "print(img) #print image array\n",
    " \n",
    "cv2.imshow('image', img) #show image\n",
    "cv2.waitKey(0) #wait to close image window\n",
    " \n",
    "cv2.destroyAllWindows() #cloase all windows"
   ]
  },
  {
   "cell_type": "markdown",
   "id": "409a7be0-86df-42ac-aec1-bcdda816644f",
   "metadata": {},
   "source": [
    "## Read Image in Grey Format"
   ]
  },
  {
   "cell_type": "code",
   "execution_count": 2,
   "id": "45c032a3-32a6-4422-9372-c770ffe58add",
   "metadata": {},
   "outputs": [
    {
     "name": "stdout",
     "output_type": "stream",
     "text": [
      "(2448, 3264)\n",
      "[[181 181 181 ... 190 190 189]\n",
      " [181 181 181 ... 188 188 189]\n",
      " [181 181 181 ... 192 189 190]\n",
      " ...\n",
      " [ 70  83  92 ...  44  36  38]\n",
      " [ 83  87  88 ...  50  48  52]\n",
      " [ 87  84  80 ...  48  46  49]]\n"
     ]
    }
   ],
   "source": [
    "import cv2 #import opencv packages\n",
    " \n",
    "path = \"C:\\D-Drive\\Bhupi\\Project\\OpenCV\\images\\DSC01499.JPG\" \n",
    " \n",
    "img = cv2.imread(path, 0) #read image in grey format\n",
    " \n",
    "print(img.shape)#print shape of image\n",
    "print(img) #print image array\n",
    " \n",
    "cv2.imshow('image', img) #show image\n",
    "cv2.waitKey(0) #wait to close image window\n",
    " \n",
    "cv2.destroyAllWindows() #cloase all windows"
   ]
  },
  {
   "cell_type": "markdown",
   "id": "b9278563-7483-4219-9d8a-305ba4336ff1",
   "metadata": {},
   "source": [
    "## Read Image in Alpha or Transference Format"
   ]
  },
  {
   "cell_type": "code",
   "execution_count": 3,
   "id": "0dc6b545-218f-4621-a163-270bef2755a6",
   "metadata": {},
   "outputs": [
    {
     "name": "stdout",
     "output_type": "stream",
     "text": [
      "(2448, 3264, 3)\n",
      "[[[188 179 182]\n",
      "  [188 179 182]\n",
      "  [188 179 182]\n",
      "  ...\n",
      "  [195 188 191]\n",
      "  [195 188 191]\n",
      "  [194 187 190]]\n",
      "\n",
      " [[186 179 182]\n",
      "  [188 179 182]\n",
      "  [188 179 182]\n",
      "  ...\n",
      "  [193 186 189]\n",
      "  [193 186 189]\n",
      "  [194 187 190]]\n",
      "\n",
      " [[186 179 182]\n",
      "  [186 179 182]\n",
      "  [188 179 182]\n",
      "  ...\n",
      "  [197 190 193]\n",
      "  [194 187 190]\n",
      "  [195 188 191]]\n",
      "\n",
      " ...\n",
      "\n",
      " [[ 56  58  99]\n",
      "  [ 69  71 111]\n",
      "  [ 76  82 119]\n",
      "  ...\n",
      "  [ 40  40  54]\n",
      "  [ 32  32  46]\n",
      "  [ 34  34  48]]\n",
      "\n",
      " [[ 76  72 107]\n",
      "  [ 78  77 111]\n",
      "  [ 79  78 112]\n",
      "  ...\n",
      "  [ 46  47  57]\n",
      "  [ 44  44  56]\n",
      "  [ 47  49  60]]\n",
      "\n",
      " [[ 82  77 109]\n",
      "  [ 79  73 108]\n",
      "  [ 73  69 104]\n",
      "  ...\n",
      "  [ 43  45  55]\n",
      "  [ 41  43  53]\n",
      "  [ 42  46  57]]]\n"
     ]
    }
   ],
   "source": [
    "import cv2 #import opencv packages\n",
    " \n",
    "path = \"C:\\D-Drive\\Bhupi\\Project\\OpenCV\\images\\DSC01499.JPG\" \n",
    " \n",
    "img = cv2.imread(path, -1) #read image alpha or transparency format\n",
    " \n",
    "print(img.shape)#print shape of image\n",
    "print(img) #print image array\n",
    " \n",
    "cv2.imshow('image', img) #show image\n",
    "cv2.waitKey(0) #wait to close image window\n",
    " \n",
    "cv2.destroyAllWindows() #cloase all windows"
   ]
  },
  {
   "cell_type": "code",
   "execution_count": null,
   "id": "4ff3ba1c-67fb-46cf-a14a-334da6931614",
   "metadata": {},
   "outputs": [],
   "source": []
  }
 ],
 "metadata": {
  "kernelspec": {
   "display_name": "Python 3 (ipykernel)",
   "language": "python",
   "name": "python3"
  },
  "language_info": {
   "codemirror_mode": {
    "name": "ipython",
    "version": 3
   },
   "file_extension": ".py",
   "mimetype": "text/x-python",
   "name": "python",
   "nbconvert_exporter": "python",
   "pygments_lexer": "ipython3",
   "version": "3.9.19"
  }
 },
 "nbformat": 4,
 "nbformat_minor": 5
}
