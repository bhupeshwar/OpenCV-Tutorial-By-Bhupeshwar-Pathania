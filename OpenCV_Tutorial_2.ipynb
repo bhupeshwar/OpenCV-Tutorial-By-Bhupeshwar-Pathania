{
 "cells": [
  {
   "cell_type": "markdown",
   "id": "9c393a27-17e6-4dcd-9da3-eebd2363d5f8",
   "metadata": {},
   "source": [
    "# Play Video Using OpenCV Python"
   ]
  },
  {
   "cell_type": "code",
   "execution_count": 1,
   "id": "bb12fba7-2b0b-4c22-9d5c-fd624b5f646f",
   "metadata": {},
   "outputs": [],
   "source": [
    "import numpy as np\n",
    "import cv2"
   ]
  },
  {
   "cell_type": "code",
   "execution_count": 2,
   "id": "08e79dcc-fb39-4f3e-bd28-a6b41856493a",
   "metadata": {},
   "outputs": [],
   "source": [
    "video_path1 = r'C:\\D-Drive\\Bhupi\\Project\\OpenCV\\videos\\video-1.mpg'\n",
    "video_path2 = r'C:\\D-Drive\\Bhupi\\Project\\OpenCV\\videos\\video-1.mp4'"
   ]
  },
  {
   "cell_type": "code",
   "execution_count": 7,
   "id": "0c32ff6b-09a6-45b6-a97b-cd42c9f8c02d",
   "metadata": {},
   "outputs": [],
   "source": [
    "cap = cv2.VideoCapture(video_path1)\n",
    "\n",
    "while cap.isOpened():\n",
    "    ret, frame = cap.read()\n",
    "    if ret:\n",
    "        image = cv2.resize(frame, (600, 400))    \n",
    "        cv2.imshow(\"Video Player\", image)\n",
    "\n",
    "        if cv2.waitKey(25) & 0xff == ord('q'):\n",
    "            break\n",
    "\n",
    "    else:\n",
    "        break\n",
    "\n",
    "cap.release()\n",
    "cv2.destroyAllWindows()"
   ]
  },
  {
   "cell_type": "code",
   "execution_count": null,
   "id": "b78026e0-7e8c-4e4b-ad86-2f9c6217f24b",
   "metadata": {},
   "outputs": [],
   "source": []
  }
 ],
 "metadata": {
  "kernelspec": {
   "display_name": "Python 3 (ipykernel)",
   "language": "python",
   "name": "python3"
  },
  "language_info": {
   "codemirror_mode": {
    "name": "ipython",
    "version": 3
   },
   "file_extension": ".py",
   "mimetype": "text/x-python",
   "name": "python",
   "nbconvert_exporter": "python",
   "pygments_lexer": "ipython3",
   "version": "3.9.19"
  }
 },
 "nbformat": 4,
 "nbformat_minor": 5
}
