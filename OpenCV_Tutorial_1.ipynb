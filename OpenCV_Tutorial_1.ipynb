{
 "cells": [
  {
   "cell_type": "markdown",
   "id": "7e1fd777-f975-4659-9901-10effff01938",
   "metadata": {},
   "source": [
    "# Read Image using OpenCV Python"
   ]
  },
  {
   "cell_type": "code",
   "execution_count": 4,
   "id": "973e7455-9a0d-4ba9-b027-198f8cd447b7",
   "metadata": {},
   "outputs": [],
   "source": [
    "import cv2"
   ]
  },
  {
   "cell_type": "code",
   "execution_count": 5,
   "id": "5b821033-be5a-4f0c-b8cc-04f88895956f",
   "metadata": {},
   "outputs": [],
   "source": [
    "path = r\"\"\"C:\\D-Drive\\Bhupi\\Project\\OpenCV\\images\"\"\"\n",
    "img_name = \"DSC02481.JPG\"\n",
    "\n",
    "img = cv2.imread(path + \"\\\\\" + img_name)\n",
    "\n",
    "cv2.resize(img, (600,400))\n",
    "cv2.imshow('Image', img)\n",
    "cv2.waitKey(0)\n",
    "cv2.destroyAllWindows()\n"
   ]
  },
  {
   "cell_type": "code",
   "execution_count": 6,
   "id": "fa64788f-0527-42c9-ae35-3de74e2fab9b",
   "metadata": {},
   "outputs": [],
   "source": [
    "import os"
   ]
  },
  {
   "cell_type": "code",
   "execution_count": 7,
   "id": "c7d95c5a-14b5-4ce0-82dd-faa794dfa9cb",
   "metadata": {},
   "outputs": [
    {
     "data": {
      "text/plain": [
       "['Collage.jpg',\n",
       " 'DSC00149.JPG',\n",
       " 'DSC00150.JPG',\n",
       " 'DSC00151.JPG',\n",
       " 'DSC00152.JPG',\n",
       " 'DSC00495.JPG',\n",
       " 'DSC00721.JPG',\n",
       " 'DSC00722.JPG',\n",
       " 'DSC00725.JPG',\n",
       " 'DSC00726.JPG',\n",
       " 'DSC00729.JPG',\n",
       " 'DSC00730.JPG',\n",
       " 'DSC00734.JPG',\n",
       " 'DSC01499.JPG',\n",
       " 'DSC01909.JPG',\n",
       " 'DSC02296.JPG',\n",
       " 'DSC02325.JPG',\n",
       " 'DSC02481.JPG',\n",
       " 'DSC02496.JPG',\n",
       " 'DSC02497.JPG',\n",
       " 'DSC02820.JPG',\n",
       " 'DSC02821.JPG',\n",
       " 'DSC02822.JPG',\n",
       " 'DSC02823.JPG',\n",
       " 'DSC04341.JPG',\n",
       " 'DSC04345.JPG']"
      ]
     },
     "execution_count": 7,
     "metadata": {},
     "output_type": "execute_result"
    }
   ],
   "source": [
    "img_names = os.listdir('C:\\D-Drive\\Bhupi\\Project\\OpenCV\\images')\n",
    "img_names"
   ]
  },
  {
   "cell_type": "code",
   "execution_count": 12,
   "id": "58e6ba24-2366-405b-ae63-b120941f4d44",
   "metadata": {},
   "outputs": [],
   "source": [
    "path = r\"\"\"C:\\D-Drive\\Bhupi\\Project\\OpenCV\\images\"\"\"\n",
    "\n",
    "for img_name in img_names:\n",
    "    img_path_full = path + \"\\\\\" + img_name\n",
    "    img = cv2.imread(img_path_full)\n",
    "    img = cv2.resize(img, (1280,720))\n",
    "    cv2.imshow('Image', img)\n",
    "    cv2.waitKey(5)\n",
    "\n",
    "cv2.destroyAllWindows()"
   ]
  },
  {
   "cell_type": "code",
   "execution_count": 17,
   "id": "12e633f0-8606-46f5-b4f3-a2fdbabc6b54",
   "metadata": {},
   "outputs": [],
   "source": [
    "import numpy as np\n",
    "\n",
    "for img_name in img_names:\n",
    "    img_path_full = path + \"\\\\\" + img_name\n",
    "    img = cv2.imread(img_path_full)\n",
    "    img = cv2.resize(img, (300,200))\n",
    "    img_2 = np.hstack((img, img))\n",
    "    img_4 = np.hstack((img_2, img_2))\n",
    "    cv2.imshow('4 Image', img_4)\n",
    "    cv2.waitKey(5)\n",
    "\n",
    "cv2.destroyAllWindows()"
   ]
  },
  {
   "cell_type": "code",
   "execution_count": null,
   "id": "80795766-4c54-49fa-9223-3ddf949d2d31",
   "metadata": {},
   "outputs": [],
   "source": []
  }
 ],
 "metadata": {
  "kernelspec": {
   "display_name": "Python 3 (ipykernel)",
   "language": "python",
   "name": "python3"
  },
  "language_info": {
   "codemirror_mode": {
    "name": "ipython",
    "version": 3
   },
   "file_extension": ".py",
   "mimetype": "text/x-python",
   "name": "python",
   "nbconvert_exporter": "python",
   "pygments_lexer": "ipython3",
   "version": "3.9.19"
  }
 },
 "nbformat": 4,
 "nbformat_minor": 5
}
