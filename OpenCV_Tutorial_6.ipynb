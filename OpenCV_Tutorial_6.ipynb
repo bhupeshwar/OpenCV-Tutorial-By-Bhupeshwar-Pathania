{
 "cells": [
  {
   "cell_type": "markdown",
   "id": "491733db-5318-4037-93d5-a385b3e9d722",
   "metadata": {},
   "source": [
    "# Print Text On Image Using Python OpenCV"
   ]
  },
  {
   "cell_type": "markdown",
   "id": "e3c28dd8-2b3f-4f2c-9f36-2ec3dee8406e",
   "metadata": {},
   "source": [
    "Syntax: cv2.putText(image, text, org, font, fontScale, color[, thickness[, lineType[, bottomLeftOrigin]]])"
   ]
  },
  {
   "cell_type": "code",
   "execution_count": null,
   "id": "8e8bd6cf-ef11-4400-a159-f20909db786f",
   "metadata": {},
   "outputs": [],
   "source": [
    "import cv2\n",
    "import numpy as np\n",
    " \n",
    "img_path = r\"C:\\D-Drive\\Bhupi\\Project\\OpenCV\\images\\DSC02481.JPG\"\n",
    "\n",
    "\n",
    "image = cv2.imread(img_path)\n",
    "image = cv2.resize(image, (1280, 720))\n",
    " \n",
    "text = \"Clicked By Bhupeshwar Pathania\"\n",
    "org = (100, 200)\n",
    "font = cv2.FONT_HERSHEY_COMPLEX\n",
    "fontScale = 6\n",
    "color = (0,0,255)  #(B, G, R)\n",
    "thickness = 3\n",
    "lineType = cv2.LINE_AA\n",
    "bottomLeftOrigin = False\n",
    " \n",
    "# Syntax>> cv2.putText(image, text, org, font, fontScale, color[, thickness[, lineType[, bottomLeftOrigin]]])\n",
    " \n",
    "img_text = cv2.putText(image, text, org, font, fontScale, color, thickness, lineType, bottomLeftOrigin)\n",
    " \n",
    "cv2.imshow(\"Text Image\", img_text)\n",
    " \n",
    "cv2.waitKey(0)\n",
    "cv2.destroyAllWindows()"
   ]
  },
  {
   "cell_type": "markdown",
   "id": "5cb72f04-d9f9-47e0-bdfe-2419b7118f61",
   "metadata": {},
   "source": [
    "## Print text Inverse"
   ]
  },
  {
   "cell_type": "code",
   "execution_count": 1,
   "id": "16b58820-1406-463a-83bf-cf3fd5dc0503",
   "metadata": {},
   "outputs": [],
   "source": [
    "import cv2\n",
    "import numpy as np\n",
    " \n",
    "img_path = r\"C:\\D-Drive\\Bhupi\\Project\\OpenCV\\images\\DSC02481.JPG\"\n",
    " \n",
    "image = cv2.imread(img_path)\n",
    " \n",
    "image = cv2.resize(image, (1280, 720))\n",
    " \n",
    "text = \"Clicked By Bhupeshwar Pathania\"\n",
    "org = (100, 200)\n",
    "font = cv2.FONT_HERSHEY_COMPLEX\n",
    "fontScale = 6\n",
    " \n",
    "color = (0,0,255)  #(B, G, R)\n",
    "thickness = 3\n",
    "lineType = cv2.LINE_AA\n",
    "bottomLeftOrigin = True\n",
    " \n",
    "# cv2.putText(image, text, org, font, fontScale, color[, thickness[, lineType[, bottomLeftOrigin]]])\n",
    "img_text = cv2.putText(image, text, org, font, fontScale, color, thickness, lineType, bottomLeftOrigin)\n",
    " \n",
    " \n",
    "cv2.imshow(\"Text Image\", img_text)\n",
    " \n",
    "cv2.waitKey(0)\n",
    "cv2.destroyAllWindows()"
   ]
  },
  {
   "cell_type": "markdown",
   "id": "4fa49fdf-2bb4-41b9-8adb-68d21b5856e2",
   "metadata": {},
   "source": [
    "## Print text with reflection"
   ]
  },
  {
   "cell_type": "code",
   "execution_count": 2,
   "id": "fa62a23b-0867-40bd-ad31-94d358d5bba1",
   "metadata": {},
   "outputs": [],
   "source": [
    "import cv2\n",
    "import numpy as np\n",
    " \n",
    "img_path = r\"C:\\D-Drive\\Bhupi\\Project\\OpenCV\\images\\DSC02481.JPG\"\n",
    "  \n",
    "image = cv2.imread(img_path)\n",
    " \n",
    "image = cv2.resize(image, (1280, 720))\n",
    " \n",
    "text = \"Clicked By Bhupeshwar Pathania\"\n",
    "org = (100, 200)\n",
    "font = cv2.FONT_HERSHEY_COMPLEX\n",
    "fontScale = 6\n",
    " \n",
    "color = (0,0,255)  #(B, G, R)\n",
    "thickness = 3\n",
    "lineType = cv2.LINE_AA\n",
    "bottomLeftOrigin = True\n",
    " \n",
    "# cv2.putText(image, text, org, font, fontScale, color[, thickness[, lineType[, bottomLeftOrigin]]])\n",
    "img_text = cv2.putText(image, text, org, font, fontScale, color, thickness, lineType, bottomLeftOrigin)\n",
    " \n",
    "img_text = cv2.putText(image, text, org, font, fontScale, color, thickness, lineType, bottomLeftOrigin=False)\n",
    " \n",
    "cv2.imshow(\"Text Image\", img_text)\n",
    " \n",
    "cv2.waitKey(0)\n",
    "cv2.destroyAllWindows()"
   ]
  },
  {
   "cell_type": "code",
   "execution_count": null,
   "id": "dc62cb7e-13c9-4843-8194-addc877a705b",
   "metadata": {},
   "outputs": [],
   "source": []
  }
 ],
 "metadata": {
  "kernelspec": {
   "display_name": "Python 3 (ipykernel)",
   "language": "python",
   "name": "python3"
  },
  "language_info": {
   "codemirror_mode": {
    "name": "ipython",
    "version": 3
   },
   "file_extension": ".py",
   "mimetype": "text/x-python",
   "name": "python",
   "nbconvert_exporter": "python",
   "pygments_lexer": "ipython3",
   "version": "3.9.19"
  }
 },
 "nbformat": 4,
 "nbformat_minor": 5
}
